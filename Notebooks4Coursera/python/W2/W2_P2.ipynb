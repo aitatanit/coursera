{
 "cells": [
  {
   "cell_type": "markdown",
   "metadata": {
    "nbpresent": {
     "id": "5d520f9b-b602-4c79-8a60-fe27a18ed013"
    }
   },
   "source": [
    "<div style='background-image: url(\"title01.png\") ; padding: 0px ; background-size: cover ; border-radius: 5px ; height: 200px'>\n",
    "<div style=\"float: right ; margin: 50px ; padding: 20px ; background: rgba(255 , 255 , 255 , 0.7) ; width: 50% ; height: 150px\">\n",
    "<div style=\"position: relative ; top: 50% ; transform: translatey(-50%)\">\n",
    "            <div style=\"font-size: xx-large ; font-weight: 900 ; color: rgba(0 , 0 , 0 , 0.8) ; line-height: 100%\">Computers, Waves, Simulations</div>\n",
    "            <div style=\"font-size: large ; padding-top: 20px ; color: rgba(0 , 0 , 0 , 0.5)\">Finite difference method - second derivative - high-order operators</div>\n",
    "        </div>\n",
    "    </div>\n",
    "</div>"
   ]
  },
  {
   "cell_type": "markdown",
   "metadata": {
    "nbpresent": {
     "id": "ef866370-5d28-4549-a6f8-e41bee86acdf"
    }
   },
   "source": [
    "#### This exercise covers the following aspects:\n",
    "* Initializing a Gaussian test function\n",
    "* Calculation of numerical second derivative with 3-point operator\n",
    "* Accuracy improvement of numerical derivative with 5-point operator"
   ]
  },
  {
   "cell_type": "code",
   "execution_count": 1,
   "metadata": {
    "code_folding": [],
    "collapsed": true,
    "nbpresent": {
     "id": "218aaa8f-5740-4c7f-b7bc-c6c168ba2ecd"
    }
   },
   "outputs": [],
   "source": [
    "# Import Libraries\n",
    "import numpy as np\n",
    "from math import *\n",
    "import matplotlib.pyplot as plt"
   ]
  },
  {
   "cell_type": "markdown",
   "metadata": {
    "nbpresent": {
     "id": "78c4fa61-9316-4e30-9d70-76bf31a62797"
    }
   },
   "source": [
    "We initialise a Gaussian function\n",
    "\n",
    "\\begin{equation} \n",
    "f(x)=\\dfrac{1}{\\sqrt{2 \\pi a}}e^{-\\dfrac{(x-x_0)^2}{2a}}\n",
    "\\end{equation} \n",
    "\n",
    "Note that this specific definition is a $\\delta-$generating function. This means that $\\int{f(x) dx}=1$ and in the limit $a\\rightarrow0$ the function f(x) converges to a $\\delta-$function.  "
   ]
  },
  {
   "cell_type": "code",
   "execution_count": 2,
   "metadata": {
    "code_folding": [],
    "collapsed": true,
    "nbpresent": {
     "id": "ff03aeb5-ea0c-49ea-966b-41e32a43652a"
    }
   },
   "outputs": [],
   "source": [
    "# Initialization \n",
    "xmax=10.0       # physical domain (m)\n",
    "nx=100          # number of space samples\n",
    "a=.25           # exponent of Gaussian function    \n",
    "dx=xmax/(nx-1)  # Grid spacing dx (m)\n",
    "x0 = xmax/2     # Center of Gaussian function x0 (m)\n",
    "\n",
    "x=np.linspace(0,xmax,nx)   # defining space variable\n",
    "\n",
    "# Initialization of Gaussian function           \n",
    "f=(1./sqrt(2*pi*a))*np.exp(-(((x-x0)**2)/(2*a)))\n"
   ]
  },
  {
   "cell_type": "code",
   "execution_count": 3,
   "metadata": {},
   "outputs": [
    {
     "data": {
      "text/plain": [
       "array([ 0.        ,  0.1010101 ,  0.2020202 ,  0.3030303 ,  0.4040404 ,\n",
       "        0.50505051,  0.60606061,  0.70707071,  0.80808081,  0.90909091,\n",
       "        1.01010101,  1.11111111,  1.21212121,  1.31313131,  1.41414141,\n",
       "        1.51515152,  1.61616162,  1.71717172,  1.81818182,  1.91919192,\n",
       "        2.02020202,  2.12121212,  2.22222222,  2.32323232,  2.42424242,\n",
       "        2.52525253,  2.62626263,  2.72727273,  2.82828283,  2.92929293,\n",
       "        3.03030303,  3.13131313,  3.23232323,  3.33333333,  3.43434343,\n",
       "        3.53535354,  3.63636364,  3.73737374,  3.83838384,  3.93939394,\n",
       "        4.04040404,  4.14141414,  4.24242424,  4.34343434,  4.44444444,\n",
       "        4.54545455,  4.64646465,  4.74747475,  4.84848485,  4.94949495,\n",
       "        5.05050505,  5.15151515,  5.25252525,  5.35353535,  5.45454545,\n",
       "        5.55555556,  5.65656566,  5.75757576,  5.85858586,  5.95959596,\n",
       "        6.06060606,  6.16161616,  6.26262626,  6.36363636,  6.46464646,\n",
       "        6.56565657,  6.66666667,  6.76767677,  6.86868687,  6.96969697,\n",
       "        7.07070707,  7.17171717,  7.27272727,  7.37373737,  7.47474747,\n",
       "        7.57575758,  7.67676768,  7.77777778,  7.87878788,  7.97979798,\n",
       "        8.08080808,  8.18181818,  8.28282828,  8.38383838,  8.48484848,\n",
       "        8.58585859,  8.68686869,  8.78787879,  8.88888889,  8.98989899,\n",
       "        9.09090909,  9.19191919,  9.29292929,  9.39393939,  9.49494949,\n",
       "        9.5959596 ,  9.6969697 ,  9.7979798 ,  9.8989899 , 10.        ])"
      ]
     },
     "execution_count": 3,
     "metadata": {},
     "output_type": "execute_result"
    }
   ],
   "source": [
    "x"
   ]
  },
  {
   "cell_type": "code",
   "execution_count": 3,
   "metadata": {
    "code_folding": [
     0
    ],
    "nbpresent": {
     "id": "731499f2-5c1a-46a3-9dd7-0fe9e740e8d4"
    }
   },
   "outputs": [
    {
     "data": {
      "image/png": "[encoded data removed]",
      "text/plain": [
       "<Figure size 432x288 with 1 Axes>"
      ]
     },
     "metadata": {},
     "output_type": "display_data"
    }
   ],
   "source": [
    "# To avoid testing (with py.test nbval ...) the plotting section \n",
    "# NBVAL_IGNORE_OUTPUT\n",
    "# ----------------------------------------------------------------\n",
    "# Plotting of gaussian\n",
    "plt.plot(x, f)\n",
    "plt.title('Gaussian function')\n",
    "plt.xlabel('x, m')\n",
    "plt.ylabel('Amplitude')\n",
    "plt.xlim((0, xmax))\n",
    "plt.grid()\n",
    "plt.show()"
   ]
  },
  {
   "cell_type": "markdown",
   "metadata": {
    "nbpresent": {
     "id": "9dfc0b23-793e-44b8-bbf7-6211f6ba6d66"
    }
   },
   "source": [
    "Now let us calculate the second derivative using the finite-difference operator with three points\n",
    "\n",
    "\\begin{equation} \n",
    "f^{\\prime\\prime}_{num}(x)=\\dfrac{f(x+dx)-2 f(x)+f(x-dx)}{dx^2}\n",
    "\\end{equation} \n",
    "\n",
    "and compare it with the analytical solution\n",
    "\\begin{equation} \n",
    "f^{\\prime\\prime}(x)= \\dfrac{1}{\\sqrt{2\\pi a}} ( \\dfrac{(x-x_0)^2}{a^2}- \\dfrac{1}{a} ) \\ e^{-\\dfrac{(x-x_0)^2}{2a}}\n",
    "\\end{equation} "
   ]
  },
  {
   "cell_type": "code",
   "execution_count": 4,
   "metadata": {
    "code_folding": [],
    "collapsed": true,
    "nbpresent": {
     "id": "1a162fb0-320a-4eef-81db-298723350bee"
    }
   },
   "outputs": [],
   "source": [
    "# Second derivative with three-point operator\n",
    "\n",
    "# Initiation of numerical and analytical derivatives \n",
    "nder3=np.zeros(nx)          # numerical derivative\n",
    "ader=np.zeros(nx)          # analytical derivative\n",
    "\n",
    "# Numerical second derivative of the given function \n",
    "for i in range (1, nx-1):\n",
    "    nder3[i]=(f[i+1] - 2*f[i] + f[i-1])/(dx**2)\n",
    "\n",
    "# Analytical second derivative of the Gaissian function\n",
    "ader=1./sqrt(2*pi*a)*((x-x0)**2/a**2 -1/a)*np.exp(-1/(2*a)*(x-x0)**2)\n",
    "# Exclude boundaries\n",
    "ader[0]=0.\n",
    "ader[nx-1]=0.\n",
    "\n",
    "# Calculate rms error of numerical derivative\n",
    "rms = np.sqrt(np.mean((nder3-ader)**2))\n"
   ]
  },
  {
   "cell_type": "code",
   "execution_count": 18,
   "metadata": {
    "code_folding": [
     0
    ]
   },
   "outputs": [
    {
     "data": {
      "image/png": "[encoded data removed]",
      "text/plain": [
       "<Figure size 432x288 with 1 Axes>"
      ]
     },
     "metadata": {
      "needs_background": "light"
     },
     "output_type": "display_data"
    }
   ],
   "source": [
    "# To avoid testing (with py.test nbval ...) the plotting section \n",
    "# NBVAL_IGNORE_OUTPUT\n",
    "# ----------------------------------------------------------------\n",
    "# Plotting \n",
    "plt.plot (x, nder3,label=\"Numerical Derivative, 3 points\", lw=2, color=\"violet\")\n",
    "plt.plot (x, ader, label=\"Analytical Derivative\", lw=2, ls=\"--\")\n",
    "plt.plot (x, nder3-ader, label=\"Difference\", lw=2, ls=\":\")\n",
    "plt.title(\"Second derivative, Err (rms) = %.6f \" % (rms) )\n",
    "plt.xlabel('x, m')\n",
    "plt.ylabel('Amplitude')\n",
    "plt.legend(loc='lower left')\n",
    "plt.grid()\n",
    "plt.show()"
   ]
  },
  {
   "cell_type": "markdown",
   "metadata": {
    "nbpresent": {
     "id": "7661a51a-d5ee-4479-b8d4-78e9da50bfaa"
    }
   },
   "source": [
    "In the cell below calculation of the first derivative with four points is provided with the following weights:\n",
    "\n",
    "\\begin{equation}\n",
    "f^{\\prime\\prime}(x)=\\dfrac{-\\dfrac{1}{12}f(x-2dx)+\\dfrac{4}{3}f(x-dx)-\\dfrac{5}{2}f(x) +\\dfrac{4}{3}f(x+dx)-\\dfrac{1}{12}f(x+2dx)}{dx^2}\n",
    "\\end{equation}"
   ]
  },
  {
   "cell_type": "code",
   "execution_count": 17,
   "metadata": {
    "code_folding": [],
    "collapsed": true,
    "nbpresent": {
     "id": "b3dac541-c1db-46a5-b4d3-a0060005afba"
    }
   },
   "outputs": [],
   "source": [
    "# First derivative with four points\n",
    "\n",
    "# Initialisation of derivative\n",
    "nder5=np.zeros(nx) \n",
    "\n",
    "# Calculation of 2nd derivative  \n",
    "for i in range (2, nx-2):\n",
    "    nder5[i] = (-1./12 * f[i - 2] + 4./3  * f[i - 1] - 5./2 * f[i] \\\n",
    "                       +4./3  * f[i + 1] - 1./12  * f[i + 2]) / dx ** 2\n",
    "    \n",
    "# Exclude boundaries\n",
    "ader[1]=0.\n",
    "ader[nx-2]=0.\n",
    "    \n",
    "# Calculate rms error of numerical derivative\n",
    "rms=rms*0\n",
    "rms = np.sqrt(np.mean((nder5-ader)**2))"
   ]
  },
  {
   "cell_type": "code",
   "execution_count": 16,
   "metadata": {},
   "outputs": [
    {
     "data": {
      "text/plain": [
       "0.0002177740880033211"
      ]
     },
     "execution_count": 16,
     "metadata": {},
     "output_type": "execute_result"
    }
   ],
   "source": [
    "rms"
   ]
  },
  {
   "cell_type": "code",
   "execution_count": 7,
   "metadata": {
    "code_folding": [
     0
    ],
    "nbpresent": {
     "id": "654f633a-08ce-4bec-9d1c-2b54af728587"
    }
   },
   "outputs": [
    {
     "data": {
      "image/png": "[encoded data removed]",
      "text/plain": [
       "<Figure size 432x288 with 1 Axes>"
      ]
     },
     "metadata": {},
     "output_type": "display_data"
    }
   ],
   "source": [
    "# To avoid testing (with py.test nbval ...) the plotting section \n",
    "# NBVAL_IGNORE_OUTPUT\n",
    "# ----------------------------------------------------------------\n",
    "# Plotting \n",
    "plt.plot (x, nder5,label=\"Numerical Derivative, 5 points\", lw=2, color=\"violet\")\n",
    "plt.plot (x, ader, label=\"Analytical Derivative\", lw=2, ls=\"--\")\n",
    "plt.plot (x, nder5-ader, label=\"Difference\", lw=2, ls=\":\")\n",
    "plt.title(\"Second derivative, Err (rms) = %.6f \" % (rms) )\n",
    "plt.xlabel('x, m')\n",
    "plt.ylabel('Amplitude')\n",
    "plt.legend(loc='lower left')\n",
    "plt.grid()\n",
    "plt.show()"
   ]
  },
  {
   "cell_type": "markdown",
   "metadata": {},
   "source": [
    "### Conclusions\n",
    "\n",
    "* 3-point finite-difference approximations can provide  estimates of the 2nd derivative of a function\n",
    "* We can increase the accuracy of the approximation by using further functional values further\n",
    "* A 5-point operator leads to substantially more accurate results"
   ]
  }
 ],
 "metadata": {
  "anaconda-cloud": {},
  "kernelspec": {
   "display_name": "Python 3",
   "language": "python",
   "name": "python3"
  },
  "language_info": {
   "codemirror_mode": {
    "name": "ipython",
    "version": 3
   },
   "file_extension": ".py",
   "mimetype": "text/x-python",
   "name": "python",
   "nbconvert_exporter": "python",
   "pygments_lexer": "ipython3",
   "version": "3.7.3"
  },
  "nbpresent": {
   "slides": {
    "0b686bc4-22f3-47e0-ba66-14d07e7d4133": {
     "id": "0b686bc4-22f3-47e0-ba66-14d07e7d4133",
     "prev": "a7f30329-e918-40d2-8d5e-823e47d57d15",
     "regions": {
      "7658eb82-4c8d-492a-b6db-aeb975fa82dc": {
       "attrs": {
        "height": 0.8,
        "width": 0.8,
        "x": 0.1,
        "y": 0.1
       },
       "content": {
        "cell": "b3dac541-c1db-46a5-b4d3-a0060005afba",
        "part": "whole"
       },
       "id": "7658eb82-4c8d-492a-b6db-aeb975fa82dc"
      }
     }
    },
    "133cf444-3367-41c2-b260-2986043d079f": {
     "id": "133cf444-3367-41c2-b260-2986043d079f",
     "prev": "6ee8fee1-3011-49a3-995d-afa3dada1920",
     "regions": {
      "0aef7381-fb68-456f-a570-c955c7a6c9ba": {
       "attrs": {
        "height": 1,
        "width": 1,
        "x": 0,
        "y": 0
       },
       "content": {
        "cell": "5d520f9b-b602-4c79-8a60-fe27a18ed013",
        "part": "whole"
       },
       "id": "0aef7381-fb68-456f-a570-c955c7a6c9ba"
      }
     }
    },
    "3abe9c3d-bf65-4a89-8a5d-7e86cfcf1d8b": {
     "id": "3abe9c3d-bf65-4a89-8a5d-7e86cfcf1d8b",
     "prev": null,
     "regions": {}
    },
    "4a6f2385-f170-4d31-b402-161e766c6c75": {
     "id": "4a6f2385-f170-4d31-b402-161e766c6c75",
     "prev": "b8fb3ea6-ca20-4edf-9b67-2824cfbb2353",
     "regions": {
      "3221b920-50e8-472f-a48e-46a7fd2ee750": {
       "attrs": {
        "height": 0.7999999999999999,
        "width": 0.8,
        "x": 0.08634812286689433,
        "y": 0.08483124762988255
       },
       "content": {
        "cell": "218aaa8f-5740-4c7f-b7bc-c6c168ba2ecd",
        "part": "whole"
       },
       "id": "3221b920-50e8-472f-a48e-46a7fd2ee750"
      }
     }
    },
    "52839f04-d083-4a9a-9e48-0474ae39ba83": {
     "id": "52839f04-d083-4a9a-9e48-0474ae39ba83",
     "prev": "a303ddfb-e18a-41af-8941-e3ba83804bba",
     "regions": {
      "e3b3cf88-73f0-486f-942a-c039d6227bbc": {
       "attrs": {
        "height": 0.8,
        "width": 0.8,
        "x": 0.1,
        "y": 0.1
       },
       "content": {
        "cell": "a221b080-ac6e-40f9-ad85-a093fe82c5f8",
        "part": "whole"
       },
       "id": "e3b3cf88-73f0-486f-942a-c039d6227bbc"
      }
     }
    },
    "5cf06d9c-65f1-4924-951c-31e88b6e1fda": {
     "id": "5cf06d9c-65f1-4924-951c-31e88b6e1fda",
     "prev": "4a6f2385-f170-4d31-b402-161e766c6c75",
     "regions": {
      "d27aa208-8903-4e6f-98d4-2ff2c708d780": {
       "attrs": {
        "height": 0.8,
        "width": 0.8,
        "x": 0.1,
        "y": 0.1
       },
       "content": {
        "cell": "78c4fa61-9316-4e30-9d70-76bf31a62797",
        "part": "whole"
       },
       "id": "d27aa208-8903-4e6f-98d4-2ff2c708d780"
      }
     }
    },
    "6ee8fee1-3011-49a3-995d-afa3dada1920": {
     "id": "6ee8fee1-3011-49a3-995d-afa3dada1920",
     "prev": "0b686bc4-22f3-47e0-ba66-14d07e7d4133",
     "regions": {
      "e05354ba-62ff-42e7-9bbe-bc2fcc15231d": {
       "attrs": {
        "height": 0.8,
        "width": 0.8,
        "x": 0.1,
        "y": 0.1
       },
       "content": {
        "cell": "654f633a-08ce-4bec-9d1c-2b54af728587",
        "part": "whole"
       },
       "id": "e05354ba-62ff-42e7-9bbe-bc2fcc15231d"
      }
     }
    },
    "72a57833-ad8e-43e7-ae55-7c090f7abbde": {
     "id": "72a57833-ad8e-43e7-ae55-7c090f7abbde",
     "prev": "5cf06d9c-65f1-4924-951c-31e88b6e1fda",
     "regions": {
      "4d0e6a8e-0b78-426d-b371-222302e7c92e": {
       "attrs": {
        "height": 0.8,
        "width": 0.8,
        "x": 0.1,
        "y": 0.1
       },
       "content": {
        "cell": "731499f2-5c1a-46a3-9dd7-0fe9e740e8d4",
        "part": "whole"
       },
       "id": "4d0e6a8e-0b78-426d-b371-222302e7c92e"
      }
     }
    },
    "9c88f3d0-e761-4d78-95ef-ccb12c1ee0ad": {
     "id": "9c88f3d0-e761-4d78-95ef-ccb12c1ee0ad",
     "prev": "c994958c-1df8-44ba-b348-848ec9c542e5",
     "regions": {
      "f8334c9f-716b-4296-aad8-ed0757646e8d": {
       "attrs": {
        "height": 0.8,
        "width": 0.8,
        "x": 0.1,
        "y": 0.1
       },
       "content": {
        "cell": "ef866370-5d28-4549-a6f8-e41bee86acdf",
        "part": "whole"
       },
       "id": "f8334c9f-716b-4296-aad8-ed0757646e8d"
      }
     }
    },
    "a303ddfb-e18a-41af-8941-e3ba83804bba": {
     "id": "a303ddfb-e18a-41af-8941-e3ba83804bba",
     "prev": "e3efaa73-c533-4b49-a008-02da11f801ae",
     "regions": {
      "d5cf3a55-7311-4514-8e61-71a178f77708": {
       "attrs": {
        "height": 0.8,
        "width": 0.8,
        "x": 0.1,
        "y": 0.1
       },
       "content": {
        "cell": "1a162fb0-320a-4eef-81db-298723350bee",
        "part": "whole"
       },
       "id": "d5cf3a55-7311-4514-8e61-71a178f77708"
      }
     }
    },
    "a7f30329-e918-40d2-8d5e-823e47d57d15": {
     "id": "a7f30329-e918-40d2-8d5e-823e47d57d15",
     "prev": "52839f04-d083-4a9a-9e48-0474ae39ba83",
     "regions": {
      "f03470b5-fd88-4172-9f11-f313cf1d3868": {
       "attrs": {
        "height": 0.8,
        "width": 0.8,
        "x": 0.1,
        "y": 0.1
       },
       "content": {
        "cell": "7661a51a-d5ee-4479-b8d4-78e9da50bfaa",
        "part": "whole"
       },
       "id": "f03470b5-fd88-4172-9f11-f313cf1d3868"
      }
     }
    },
    "ab1c4ce8-4c94-4c6d-a849-d60210bdba14": {
     "id": "ab1c4ce8-4c94-4c6d-a849-d60210bdba14",
     "prev": "3abe9c3d-bf65-4a89-8a5d-7e86cfcf1d8b",
     "regions": {}
    },
    "b8fb3ea6-ca20-4edf-9b67-2824cfbb2353": {
     "id": "b8fb3ea6-ca20-4edf-9b67-2824cfbb2353",
     "prev": "9c88f3d0-e761-4d78-95ef-ccb12c1ee0ad",
     "regions": {
      "c801565c-7970-41fa-ae49-a8a61a188277": {
       "attrs": {
        "height": 0.8,
        "width": 0.8,
        "x": 0.1,
        "y": 0.1
       },
       "content": {
        "cell": "640049fd-55c0-418e-be5d-278159c3335d",
        "part": "whole"
       },
       "id": "c801565c-7970-41fa-ae49-a8a61a188277"
      }
     }
    },
    "c994958c-1df8-44ba-b348-848ec9c542e5": {
     "id": "c994958c-1df8-44ba-b348-848ec9c542e5",
     "prev": "dd629a8a-44fa-4197-aea6-b07c27936e9c",
     "regions": {
      "a038a02c-47fd-4f63-a95a-86e23c713e05": {
       "attrs": {
        "height": 0.8,
        "width": 0.8,
        "x": 0.1,
        "y": 0.1
       },
       "content": {
        "cell": "df2e65e1-ba88-4a57-9329-2d20b7d521ad",
        "part": "whole"
       },
       "id": "a038a02c-47fd-4f63-a95a-86e23c713e05"
      }
     }
    },
    "dd629a8a-44fa-4197-aea6-b07c27936e9c": {
     "id": "dd629a8a-44fa-4197-aea6-b07c27936e9c",
     "prev": "ab1c4ce8-4c94-4c6d-a849-d60210bdba14",
     "regions": {
      "abf4e57e-342b-4f9a-8cc8-0cf1b2b87170": {
       "attrs": {
        "height": 0.8,
        "width": 0.8,
        "x": 0.1,
        "y": 0.1
       },
       "content": {
        "cell": "5d520f9b-b602-4c79-8a60-fe27a18ed013",
        "part": "whole"
       },
       "id": "abf4e57e-342b-4f9a-8cc8-0cf1b2b87170"
      }
     }
    },
    "e3efaa73-c533-4b49-a008-02da11f801ae": {
     "id": "e3efaa73-c533-4b49-a008-02da11f801ae",
     "prev": "72a57833-ad8e-43e7-ae55-7c090f7abbde",
     "regions": {
      "17689222-4250-4662-943b-5248430b43ce": {
       "attrs": {
        "height": 0.8,
        "width": 0.8,
        "x": 0.1,
        "y": 0.1
       },
       "content": {
        "cell": "9dfc0b23-793e-44b8-bbf7-6211f6ba6d66",
        "part": "whole"
       },
       "id": "17689222-4250-4662-943b-5248430b43ce"
      }
     }
    }
   },
   "themes": {
    "default": "0ca5c34d-a378-4ba5-a9cb-f1a967230181",
    "theme": {}
   }
  }
 },
 "nbformat": 4,
 "nbformat_minor": 2
}
