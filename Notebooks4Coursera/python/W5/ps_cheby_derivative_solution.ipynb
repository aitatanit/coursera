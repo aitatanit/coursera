{
 "cells": [
  {
   "cell_type": "markdown",
   "metadata": {},
   "source": [
    "<div style='background-image: url(back.jpeg) ; padding: 0px ; background-size:  contain ; border-radius:0px ; height: 250px; background-repeat: no-repeat'>\n",
    "<div style=\"float: right ; margin: 50px ; padding: 20px ; background: rgba(255 , 255 , 255 , 0.7) ; width: 50% ; height: 150px\">\n",
    "<div style=\"position: relative ; top: 50% ; transform: translatey(-50%)\">\n",
    "            <div style=\"font-size: xx-large ; font-weight: 900 ; color: rgba(0 , 0 , 0 , 0.8) ; line-height: 100%\">The Pesudo-Spectral Method</div>\n",
    "            <div style=\"font-size: large ; padding-top: 20px ; color: rgba(0 , 0 , 0 , 0.5)\">Numerical derivatives based on a derivative matrix</div>\n",
    "        </div>\n",
    "    </div>\n",
    "</div>\n",
    "\n"
   ]
  },
  {
   "cell_type": "markdown",
   "metadata": {
    "code_folding": []
   },
   "source": [
    "This notebook covers the following aspects:\n",
    "    \n",
    "* Calculating a derivative using the differentation theorem of the Fourier Transform \n",
    "* Define a function that initializes the Chebyshev derivative matrix $D_{ij}$  for a Gaussian function\n",
    "* Compare with analytical solution\n"
   ]
  },
  {
   "cell_type": "markdown",
   "metadata": {},
   "source": [
    "## Basic Equations\n",
    "\n",
    "Calculating a derivative using the differentation theorem of the Fourier Transform is in the mathematical sense a convolution of the function $f(x)$ with $ik$, where $k$ is the wavenumber and $i$ the imaginary unit. This can also be formulated as a matrix-vector product involving so-called Toeplitz matrices. An elegant (but inefficient) way of performing a derivative operation on a space-dependent function described on the Chebyshev collocation points is by defining a derivative matrix $D_{ij}$\n",
    "\n",
    "$$ D_{ij} \\ = \\ -\\frac{2 N^2 + 1}{6} \\hspace{1.5cm} \\text{for  i  = j = N} $$\n",
    "$$ D_{ij} \\ = \\ -\\frac{1}{2} \\frac{x_i}{1-x_i^2} \\hspace{1.5cm} \\text{for i = j = 1,2,...,N-1} $$\n",
    "$$ D_{ij} \\ = \\ \\frac{c_i}{c_j} \\frac{(-1)^{i+j}}{x_i - x_j} \\hspace{1.5cm} \\text{for i $\\neq$ j =\n",
    "0,1,...,N}$$\n",
    "\n",
    "where $N+1$ is the number of Chebyshev collocation points $ \\ x_i = cos(i\\pi / N)$, $ \\ i=0,...,N$ and the $c_i$ are given as\n",
    "\n",
    "$$ c_i = 2 \\hspace{1.5cm} \\text{for  i  = 0 or N} $$\n",
    "$$ c_i = 1 \\hspace{1.5cm} \\text{otherwise} $$\n",
    "\n",
    "This differentiation matrix allows us to write the derivative of the function $f_i = f(x_i)$ (possibly depending on time) simply as\n",
    "\n",
    "$$\\partial_x u_i = D_{ij} \\ u_j$$\n",
    "\n",
    "where the right-hand side is a matrix-vector product, and the Einstein summation convention applies."
   ]
  },
  {
   "cell_type": "code",
   "execution_count": 1,
   "metadata": {
    "code_folding": [],
    "collapsed": true
   },
   "outputs": [],
   "source": [
    "# This is a configuration step for the exercise. Please run it before calculating the derivative!\n",
    "import numpy as np\n",
    "import matplotlib.pyplot as plt\n",
    "\n",
    "# Show the plots in the Notebook.\n",
    "plt.switch_backend(\"nbagg\")"
   ]
  },
  {
   "cell_type": "markdown",
   "metadata": {
    "solution2": "hidden",
    "solution2_first": true
   },
   "source": [
    "#### Exercise 1\n",
    "\n",
    "Define a python function call \"get_cheby_matrix(nx)\" that initializes the Chebyshev derivative matrix $D_{ij}$ "
   ]
  },
  {
   "cell_type": "code",
   "execution_count": 2,
   "metadata": {
    "collapsed": true,
    "solution2": "hidden"
   },
   "outputs": [],
   "source": [
    "# Function for setting up the Chebyshev derivative matrix\n",
    "def get_cheby_matrix(nx):\n",
    "    cx = np.zeros(nx+1)\n",
    "    x = np.zeros(nx+1)\n",
    "    for ix in range(0,nx+1):\n",
    "        x[ix] = np.cos(np.pi * ix  / nx)\n",
    "   \n",
    "    cx[0] = 2.\n",
    "    cx[nx] = 2.\n",
    "    cx[1:nx] = 1.\n",
    "   \n",
    "    D = np.zeros((nx+1,nx+1))\n",
    "    for i in range(0, nx+1):\n",
    "        for j in range(0, nx+1):\n",
    "            if i==j and i!=0 and i!=nx:\n",
    "                D[i,i]=-x[i]/(2.0*(1.0-x[i]*x[i]))\n",
    "            else:\n",
    "                D[i,j]=(cx[i]*(-1.)**(i+j))/(cx[j]*(x[i]-x[j]))\n",
    "  \n",
    "    D[0,0] = (2.*nx**2+1.)/6.\n",
    "    D[nx,nx] = -D[0,0]  \n",
    "    return D"
   ]
  },
  {
   "cell_type": "markdown",
   "metadata": {
    "solution2": "hidden",
    "solution2_first": true
   },
   "source": [
    "#### Exercise 2\n",
    "\n",
    "Calculate the numerical derivative by applying the differentiation matrix $D_{ij}$. Define an arbitrary function (e.g. a Gaussian) and initialize its analytical derivative on the Chebyshev collocation points. Calculate the numerical derivative and the difference to the analytical solution. Vary the wavenumber content of the analytical function. Does it make a difference? Why is the numerical result not entirely exact?"
   ]
  },
  {
   "cell_type": "code",
   "execution_count": 3,
   "metadata": {
    "code_folding": [],
    "solution2": "hidden"
   },
   "outputs": [
    {
     "name": "stderr",
     "output_type": "stream",
     "text": [
      "/Users/doga/anaconda3/envs/obspy35/lib/python3.5/site-packages/ipykernel_launcher.py:18: RuntimeWarning: divide by zero encountered in double_scalars\n"
     ]
    },
    {
     "name": "stdout",
     "output_type": "stream",
     "text": [
      "Error: 1.80721347763e-24\n"
     ]
    }
   ],
   "source": [
    "# Initialize arbitrary test function on Chebyshev collocation points\n",
    "nx = 200    # Number of grid points\n",
    "x = np.zeros(nx+1)\n",
    "for ix in range(0,nx+1):\n",
    "    x[ix] = np.cos(ix * np.pi / nx) \n",
    "dxmin = min(abs(np.diff(x)))\n",
    "dxmax = max(abs(np.diff(x)))\n",
    "\n",
    "# Function example: Gaussian\n",
    "# Width of Gaussian\n",
    "s =.2 \n",
    "# Gaussian function (modify!)\n",
    "f = np.exp(-1/s**2 * x**2)\n",
    "\n",
    "# Analytical derivative\n",
    "df_ana = -2/s**2 * x * np.exp(-1/s**2 * x**2)\n",
    "\n",
    "# Initialize differentiation matrix\n",
    "D = get_cheby_matrix(nx)\n",
    "\n",
    "# Calculate numerical derivative using differentiation matrix\n",
    "df_num = D @ f\n",
    "\n",
    "# To make the error visible, it is multiply by 10^12\n",
    "df_err = 1e12*(df_ana - df_num)\n",
    "\n",
    "# Calculate error between analytical and numerical solution\n",
    "err = np.sum((df_num - df_ana)**2) / np.sum(df_ana**2) * 100\n",
    "print('Error: %s' %err)"
   ]
  },
  {
   "cell_type": "markdown",
   "metadata": {
    "collapsed": true,
    "solution2": "hidden",
    "solution2_first": true
   },
   "source": [
    "#### Exercise 3\n",
    "\n",
    "Now that the numerical derivative is available, we can visually inspect our results. Make a plot of both, the analytical and numerical derivatives together with the difference error. "
   ]
  },
  {
   "cell_type": "code",
   "execution_count": 4,
   "metadata": {
    "code_folding": [],
    "solution2": "hidden"
   },
   "outputs": [
    {
     "data": {
      "image/png": "[encoded data removed]",
      "text/plain": [
       "<Figure size 432x288 with 2 Axes>"
      ]
     },
     "metadata": {},
     "output_type": "display_data"
    }
   ],
   "source": [
    "# To avoid testing (with py.test nbval ...) the plotting section \n",
    "# NBVAL_IGNORE_OUTPUT\n",
    "# ----------------------------------------------------------------\n",
    "# Plot analytical and numerical derivatives\n",
    "# ---------------------------------------------------------------\n",
    "\n",
    "plt.subplot(2,1,1)\n",
    "plt.plot(x, f, \"g\", lw = 1.5, label='Gaussian')\n",
    "plt.legend(loc='upper right', shadow=True)\n",
    "plt.xlabel('$x$')        \n",
    "plt.ylabel('$f(x)$')\n",
    "\n",
    "plt.subplot(2,1,2)\n",
    "plt.plot(x, df_ana, \"b\", lw = 1.5, label='Analytical')\n",
    "plt.plot(x, df_num, 'k--', lw = 1.5, label='Numerical')\n",
    "plt.plot(x, df_err, \"r\", lw = 1.5, label='Difference')\n",
    "plt.legend(loc='upper right', shadow=True)\n",
    "plt.xlabel('$x$')        \n",
    "plt.ylabel('$\\partial_x f(x)$')\n",
    "\n",
    "plt.show()"
   ]
  },
  {
   "cell_type": "code",
   "execution_count": null,
   "metadata": {
    "collapsed": true
   },
   "outputs": [],
   "source": []
  }
 ],
 "metadata": {
  "anaconda-cloud": {},
  "kernelspec": {
   "display_name": "Python 3",
   "language": "python",
   "name": "python3"
  },
  "language_info": {
   "codemirror_mode": {
    "name": "ipython",
    "version": 3
   },
   "file_extension": ".py",
   "mimetype": "text/x-python",
   "name": "python",
   "nbconvert_exporter": "python",
   "pygments_lexer": "ipython3",
   "version": "3.6.3"
  }
 },
 "nbformat": 4,
 "nbformat_minor": 1
}
