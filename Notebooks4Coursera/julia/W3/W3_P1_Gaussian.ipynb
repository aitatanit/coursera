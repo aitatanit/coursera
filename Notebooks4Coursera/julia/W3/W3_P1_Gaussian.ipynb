{
 "cells": [
  {
   "cell_type": "markdown",
   "metadata": {},
   "source": [
    "<div style='background-image: url(\"title01.png\") ; padding: 0px ; background-size: cover ; border-radius: 5px ; height: 200px'>\n",
    "<div style=\"float: right ; margin: 50px ; padding: 20px ; background: rgba(255 , 255 , 255 , 0.7) ; width: 50% ; height: 150px\">\n",
    "<div style=\"position: relative ; top: 50% ; transform: translatey(-50%)\">\n",
    "            <div style=\"font-size: xx-large ; font-weight: 900 ; color: rgba(0 , 0 , 0 , 0.8) ; line-height: 100%\">Computers, Waves, Simulations</div>\n",
    "            <div style=\"font-size: large ; padding-top: 20px ; color: rgba(0 , 0 , 0 , 0.5)\">Finite-difference method - Acoustic waves 1D</div>\n",
    "        </div>\n",
    "    </div>\n",
    "</div>"
   ]
  },
  {
   "cell_type": "markdown",
   "metadata": {},
   "source": [
    "#### This notebook covers the following aspects:\n",
    "\n",
    "* implementation of the 1D acoustic wave equation \n",
    "* understanding the input parameters for the simulation and the plots that are generated\n",
    "* understanding the concepts of stability (Courant criterion)\n",
    "* modifying source and receiver locations and observing the effects on the seismograms\n"
   ]
  },
  {
   "cell_type": "markdown",
   "metadata": {},
   "source": [
    "#### Numerical Solution (Finite Differences Method)\n",
    "\n",
    "The acoustic wave equation in 1D with constant density \n",
    "\n",
    "$$\n",
    "\\partial^2_t p(x,t) \\ = \\ c(x)^2 \\partial_x^2 p(x,t) + s(x,t)\n",
    "$$\n",
    "\n",
    "with pressure $p$, acoustic velocity $c$, and source term $s$ contains two second derivatives that can be approximated with a difference formula such as\n",
    "\n",
    "$$\n",
    "\\partial^2_t p(x,t) \\ \\approx \\ \\frac{p(x,t+dt) - 2 p(x,t) + p(x,t-dt)}{dt^2} \n",
    "$$\n",
    "\n",
    "and equivalently for the space derivative. Injecting these approximations into the wave equation allows us to formulate the pressure p(x) for the time step $t+dt$ (the future) as a function of the pressure at time $t$ (now) and $t-dt$ (the past). This is called an explicit scheme allowing the $extrapolation$ of the space-dependent field into the future only looking at the nearest neighbourhood.\n",
    "\n",
    "We replace the time-dependent (upper index time, lower indices space) part by\n",
    "\n",
    "$$\n",
    " \\frac{p_{i}^{n+1} - 2 p_{i}^n + p_{i}^{n-1}}{\\mathrm{d}t^2} \\ = \\ c^2 ( \\partial_x^2 p) \\ + s_{i}^n\n",
    "$$\n",
    "\n",
    "solving for $p_{i}^{n+1}$.\n",
    "\n",
    "The extrapolation scheme is\n",
    "\n",
    "$$\n",
    "p_{i}^{n+1} \\ = \\ c_i^2 \\mathrm{d}t^2 \\left[ \\partial_x^2 p \\right]\n",
    "+ 2p_{i}^n - p_{i}^{n-1} + \\mathrm{d}t^2 s_{i}^n\n",
    "$$\n",
    "\n",
    "The  space derivatives are determined by \n",
    "\n",
    "$$\n",
    "\\partial_x^2 p \\ = \\ \\frac{p_{i+1}^{n} - 2 p_{i}^n + p_{i-1}^{n}}{\\mathrm{d}x^2}\n",
    "$$"
   ]
  },
  {
   "cell_type": "code",
   "execution_count": 1,
   "metadata": {
    "code_folding": [],
    "collapsed": true
   },
   "outputs": [],
   "source": [
    "# Import Libraries \n",
    "# -----------------\n",
    "import numpy as np\n",
    "import matplotlib.pyplot as plt\n",
    "\n",
    "# Sub-plot Configuration\n",
    "# ----------------------\n",
    "from matplotlib import gridspec \n",
    "\n",
    "# Show Plot in The Notebook\n",
    "# -------------------------\n",
    "plt.switch_backend(\"nbagg\") \n",
    "\n",
    "# Ignore Warning Messages\n",
    "# -----------------------\n",
    "import warnings\n",
    "warnings.filterwarnings(\"ignore\")"
   ]
  },
  {
   "cell_type": "code",
   "execution_count": 2,
   "metadata": {
    "code_folding": [],
    "collapsed": true,
    "scrolled": false
   },
   "outputs": [],
   "source": [
    "# Parameter Configuration \n",
    "# -----------------------\n",
    "\n",
    "nx   = 10000        # number of grid points in x-direction\n",
    "xmax = 10000        # physical domain (m)\n",
    "dx   = xmax/(nx-1)  # grid point distance in x-direction\n",
    "c0   = 334.         # wave speed in medium (m/s)\n",
    "isrc = int(nx/2)    # source location in grid in x-direction \n",
    "nt   = 1000         # maximum number of time steps\n",
    "dt   = 0.003        # time step\n",
    "\n",
    "# Source time function parameters\n",
    "f0   = 25. # dominant frequency of the source (Hz)\n",
    "t0   = 4. / f0 # source time shift\n",
    "\n",
    "# Snapshot\n",
    "idisp = 5 # display frequency"
   ]
  },
  {
   "cell_type": "code",
   "execution_count": 3,
   "metadata": {
    "code_folding": [],
    "collapsed": true
   },
   "outputs": [],
   "source": [
    "# Source time function (Gaussian)\n",
    "# -------------------------------\n",
    "src  = np.zeros(nt + 1)\n",
    "time = np.linspace(0 * dt, nt * dt, nt)\n",
    "# 1st derivative of a Gaussian\n",
    "src  = -2. * (time - t0) * (f0 ** 2) * (np.exp(-1.0 * (f0 ** 2) * (time - t0) ** 2))\n",
    "\n"
   ]
  },
  {
   "cell_type": "code",
   "execution_count": 4,
   "metadata": {
    "code_folding": []
   },
   "outputs": [
    {
     "data": {
      "image/png": "[encoded data removed]",
      "text/plain": [
       "<Figure size 864x432 with 2 Axes>"
      ]
     },
     "metadata": {},
     "output_type": "display_data"
    }
   ],
   "source": [
    "# To avoid testing (with py.test nbval ...) the plotting section \n",
    "# NBVAL_IGNORE_OUTPUT\n",
    "# ----------------------------------------------------------------\n",
    "# Plot source time function\n",
    "\n",
    "# Plot position configuration\n",
    "# ---------------------------\n",
    "plt.ion()\n",
    "fig1 = plt.figure(figsize=(12, 6))\n",
    "#gs1  = gridspec.GridSpec(1,2,width_ratios=[1,1],height_ratios=[1,0.1],hspace=0.3, wspace=0.3)\n",
    "gs1  = gridspec.GridSpec(1,2,width_ratios=[1,1],height_ratios=None,hspace=0.3, wspace=0.3)\n",
    "\n",
    "# Plot source time function\n",
    "# -------------------------\n",
    "ax1  = plt.subplot(gs1[0])\n",
    "ax1.plot(time, src) # plot source time function\n",
    "ax1.set_title('Source Time Function')\n",
    "ax1.set_xlim(time[0], time[-1])\n",
    "ax1.set_xlabel('Time (s)')\n",
    "ax1.set_ylabel('Amplitude')\n",
    "\n",
    "# Plot source spectrum\n",
    "# --------------------\n",
    "ax2  = plt.subplot(gs1[1])\n",
    "spec = np.fft.fft(src) # source time function in frequency domain\n",
    "freq = np.fft.fftfreq(spec.size, d = dt / 4.) # time domain to frequency domain\n",
    "ax2.plot(np.abs(freq), np.abs(spec)) # plot frequency and amplitude\n",
    "ax2.set_xlim(0, 250) # only display frequency from 0 to 250 Hz\n",
    "ax2.set_title('Source Spectrum')\n",
    "ax2.set_xlabel('Frequency (Hz)')\n",
    "ax2.set_ylabel('Amplitude')\n",
    "\n",
    "ax2.yaxis.tick_right()\n",
    "ax2.yaxis.set_label_position(\"right\")\n",
    "\n",
    "plt.show()"
   ]
  },
  {
   "cell_type": "code",
   "execution_count": 5,
   "metadata": {
    "code_folding": []
   },
   "outputs": [
    {
     "data": {
      "image/png": "[encoded data removed]",
      "text/plain": [
       "<Figure size 864x432 with 1 Axes>"
      ]
     },
     "metadata": {},
     "output_type": "display_data"
    }
   ],
   "source": [
    "# Plot Snapshot & Seismogram \n",
    "# ---------------------------------------------------------------------------\n",
    "\n",
    "# Initialize empty pressure\n",
    "# -------------------------\n",
    "p    = np.zeros(nx) # p at time n (now)\n",
    "pold = np.zeros(nx) # p at time n-1 (past)\n",
    "pnew = np.zeros(nx) # p at time n+1 (present)\n",
    "d2px = np.zeros(nx) # 2nd space derivative of p\n",
    "\n",
    "# Initialize model (assume homogeneous model)\n",
    "# -------------------------------------------\n",
    "c    = np.zeros(nx)\n",
    "c    = c + c0       # initialize wave velocity in model\n",
    "\n",
    "# Initialize coordinate\n",
    "# ---------------------\n",
    "x    = np.arange(nx)\n",
    "x    = x * dx       # coordinate in x-direction\n",
    "\n",
    "# To avoid testing (with py.test nbval ...) the plotting section \n",
    "# NBVAL_IGNORE_OUTPUT\n",
    "# ----------------------------------------------------------------\n",
    "# Plot position configuration\n",
    "# ---------------------------\n",
    "plt.ion()\n",
    "fig2  = plt.figure(figsize=(12, 6))\n",
    "gs2   = gridspec.GridSpec(1,1,width_ratios=[1], height_ratios=[1],hspace=0.3, wspace=0.3)\n",
    "\n",
    "# Plot 1D wave propagation\n",
    "# ------------------------\n",
    "# Note: comma is needed to update the variable\n",
    "ax3  = plt.subplot(gs2[0])\n",
    "leg1,= ax3.plot(isrc, 0, 'r*', markersize=11) # plot position of the source in snapshot\n",
    "up31,= ax3.plot(p) # plot pressure update each time step\n",
    "ax3.set_xlim(0, xmax)\n",
    "ax3.set_ylim(-np.max(p), np.max(p))\n",
    "ax3.set_title('Time Step (nt) = 0')\n",
    "ax3.set_xlabel('x (m)')\n",
    "ax3.set_ylabel('Pressure Amplitude')\n",
    "#ax3.legend((leg1, leg2), ('Source', 'Receiver'), loc='upper right', fontsize=10, numpoints=1)\n",
    "plt.show()"
   ]
  },
  {
   "cell_type": "code",
   "execution_count": 6,
   "metadata": {
    "code_folding": [
     33
    ]
   },
   "outputs": [
    {
     "data": {
      "text/plain": [
       "<Figure size 432x288 with 0 Axes>"
      ]
     },
     "metadata": {},
     "output_type": "display_data"
    }
   ],
   "source": [
    "# 1D Wave Propagation (Finite Difference Solution) \n",
    "# ------------------------------------------------\n",
    "\n",
    "\n",
    "# Loop over time\n",
    "for it in range(nt):\n",
    "\n",
    "    # 2nd derivative in space\n",
    "    for i in range(1, nx - 1):\n",
    "        d2px[i] = (p[i + 1] - 2 * p[i] + p[i - 1]) / dx ** 2\n",
    "\n",
    "\n",
    "    # Time Extrapolation\n",
    "    # ------------------\n",
    "    pnew = 2 * p - pold + c ** 2 * dt ** 2 * d2px\n",
    "\n",
    "    # Add Source Term at isrc\n",
    "    # -----------------------\n",
    "    # Absolute pressure w.r.t analytical solution\n",
    "    pnew[isrc] = pnew[isrc] + src[it] / (dx) * dt ** 2\n",
    "    \n",
    "            \n",
    "    # Remap Time Levels\n",
    "    # -----------------\n",
    "    pold, p = p, pnew\n",
    "    \n",
    "    # To avoid testing (with py.test nbval ...) the plotting section \n",
    "    # NBVAL_IGNORE_OUTPUT\n",
    "    # -------------------------------------\n",
    "    # Plot pressure field\n",
    "    # -------------------------------------\n",
    "\n",
    "    if (it % idisp) == 0:\n",
    "        ax3.set_title('Time Step (nt) = %d' % it)\n",
    "        ax3.set_ylim(-1.1*np.max(abs(p)), 1.1*np.max(abs(p)))\n",
    "        # plot around propagating wave\n",
    "        window=100;xshift=25\n",
    "        ax3.set_xlim(isrc*dx+c0*it*dt-window*dx-xshift, isrc*dx+c0*it*dt+window*dx-xshift)\n",
    "        up31.set_ydata(p)\n",
    "        plt.gcf().canvas.draw()"
   ]
  },
  {
   "cell_type": "code",
   "execution_count": 7,
   "metadata": {},
   "outputs": [
    {
     "name": "stdout",
     "output_type": "stream",
     "text": [
      "5000\n"
     ]
    }
   ],
   "source": [
    "print(np.int(isrc))\n"
   ]
  },
  {
   "cell_type": "code",
   "execution_count": null,
   "metadata": {
    "collapsed": true
   },
   "outputs": [],
   "source": []
  }
 ],
 "metadata": {
  "anaconda-cloud": {},
  "kernelspec": {
   "display_name": "Python 3",
   "language": "python",
   "name": "python3"
  },
  "language_info": {
   "codemirror_mode": {
    "name": "ipython",
    "version": 3
   },
   "file_extension": ".py",
   "mimetype": "text/x-python",
   "name": "python",
   "nbconvert_exporter": "python",
   "pygments_lexer": "ipython3",
   "version": "3.6.3"
  }
 },
 "nbformat": 4,
 "nbformat_minor": 1
}
